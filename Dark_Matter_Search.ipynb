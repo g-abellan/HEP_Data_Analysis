{
 "cells": [
  {
   "cell_type": "markdown",
   "metadata": {},
   "source": [
    "<CENTER><img src=\"../../images/ATLASOD.gif\" style=\"width:50%\"></CENTER>"
   ]
  },
  {
   "cell_type": "markdown",
   "metadata": {},
   "source": [
    "# Dark Matter Search at ATLAS \n",
    "\n",
    "This notebook is a mixture from [ATLAS Open Data Jupyter Notebook](https://github.com/atlas-outreach-data-tools/notebooks-collection-opendata/tree/master/13-TeV-examples/uproot_python)\n"
   ]
  },
  {
   "cell_type": "markdown",
   "metadata": {},
   "source": [
    "<a id='contents'></a>"
   ]
  },
  {
   "cell_type": "markdown",
   "metadata": {},
   "source": [
    "Contents: \n",
    "\n",
    "[Dark Matter](#DM) <br />\n",
    "[Dark Matter at ATLAS](#DM_ATLAS) <br />\n",
    "[The ATLAS experiment](#ATLAS) <br />\n",
    "[Running a Jupyter notebook](#running) <br />\n",
    "[To setup everytime](#setup_everytime) <br />\n",
    "[Processes](#processes) <br />\n",
    "  [Task 1: Can you print the <font color='red'>'DM_300'</font> table?](#task1) <br />\n",
    "  [Task 2: Estimate *how many data points have <font color='red'>lead_lep_pt</font> below* 100 GeV](#task2) <br />\n",
    "  [Task 3: Estimate *how many data points have <font color='red'>lead_lep_pt</font> between* 100 and 150 GeV](#task3) <br />\n",
    "  [Task 4: Estimate *how many data points have <font color='red'>lead_lep_pt</font> above* 500 GeV](#task4) <br />\n",
    "  [Task 5: Estimate *how many data points have <font color='red'>lead_lep_pt</font> below* 150 GeV](#task5) <br />\n",
    "  [Task 6: Estimate the *average value of <font color='red'>totalWeight</font>* in the <font color='red'>DM_300</font> data](#task6) <br />\n",
    "  [Task 7: Estimate *how many <font color='orange'>Z+jets</font> weighted events have <font color='red'>lead_lep_pt</font> below* 125 GeV](#task7) <br />\n",
    "  [Task 8: Apply cuts from the initial selection criteria table](#task8) <br />\n",
    "  [Task 9: Estimate the *maximum significance that can be achieved using <font color='red'>lead_lep_pt</font>*](#task9) <br />\n",
    "  [Task 10: Fill in the code to make a graph of <font color='red'>'sublead_lep_pt'</font>](#task10) <br />\n",
    "  [Task 11: Choose the x-values for your significance graph of <font color='red'>'sublead_lep_pt'</font>, then plot the significance graph](#task11) <br />\n",
    "  [Task 12: Plot the significance for <font color='red'>'ETmiss'</font>, <font color='red'>'ETmiss_over_HT'</font>,<font color='red'>'dphi_pTll_ETmiss'</font>](#task11) <br />\n",
    "\n",
    "[Going further](#going_further) <br />"
   ]
  },
  {
   "cell_type": "markdown",
   "metadata": {},
   "source": [
    "<a id='DM'></a>\n",
    "\n",
    "## Dark Matter\n",
    "\n",
    "Dark Matter is a hypothesised type of matter that does not interact with the electromagnetic force. It does not emit, absorb, or reflect light, making it invisible. So how has it been hypothesised? During various observations, astrophysicists have found that there isn't enough matter in space to account for all the gravitational attractions we measure! Therefore, there must be some invisible matter interacting with visible matter through Gravity.\n",
    "\n",
    "Let's look at one example quickly: gravitational lensing. It is when light gets bent around objects in space due to the gravitational fields around massive bodies. This lets you see behind objects in space!\n",
    "\n",
    "Diagram              |  Picture\n",
    ":-------------------------:|:-------------------------:\n",
    "![Gravitational Lensing Diagram](GravLensingCaltech.png)  |  ![Gravitational Lensing Photo](A_Horseshoe_Einstein_Ring_from_Hubble.png)\n",
    "\n",
    "We see that mass has an effect on the path that light travels, so how does this relate to dark matter? Astrophysicists have seen light from distant objects that have been gravitationally lensed 'too much' - with the amount of observable mass causing the lensing, they should not see some objects that they in fact do! This then implies that there must be some more mass there that we can't see - dark matter!\n",
    "\n",
    "Got interested and want to know more?\n",
    "Check this [talk](https://youtu.be/YMYFhRz9UN8?t=1478) on “How the ATLAS experiment searches for Dark Matter” by Dr Christian Ohm (to be watched from the timestamp set in the link).\n",
    "\n",
    "[Back to contents](#contents)\n",
    "\n",
    "<a id='ATLAS'></a>\n",
    "\n",
    "## The ATLAS experiment\n",
    "\n",
    "The ATLAS experiment is a collaboration between thousands of scientists and engineers across the world to maintain the operation of the ATLAS detector and analyse the data it records to try and find new particles. Just like we are going to do!\n",
    "\n",
    "![ATLAS map](ATLAS-Collaboration-Nationalities-Map.png)\n",
    "\n",
    "The ATLAS detector is a general-purpose particle detector used to detect the particles that come out of the collisions of the Large Hadron Collider (LHC). It is a massive 46 metres long and 25 metres in diameter! You can explore a 3D model of the detector [here](http://opendata.atlas.cern/detector-app/) and learn more about its different parts and tools [here](https://atlas.cern/discover/detector). \n",
    "\n",
    "\n",
    "ATLAS vs Person              |  ATLAS vs Bus\n",
    ":-------------------------:|:-------------------------:\n",
    "![ATLAS vs Person](ATLASvsPerson.png)  |  ![ATLAS vs Bus](ATLASvsLondonDDbusSizeComparison.png)\n",
    "\n",
    "Want to know more?\n",
    "- [Link](https://www.youtube.com/playlist?list=PLFdk9xyc025FT0Zcmu4VM2uCLUAzXSZ) to an animation series that describes and explains the ATLAS detector (by CERN).\n",
    "- [Link](https://www.youtube.com/watch?v=sVYUqMRolaA) to a more informal introduction to the ATLAS detector (by Sixty Symbols).\n",
    "\n",
    "[Back to contents](#contents)\n",
    "\n",
    "<a id='DM_ATLAS'></a>\n",
    "\n",
    "## Dark Matter at ATLAS\n",
    "\n",
    "So if dark matter is so common across the universe and its effects are clearly observed by astrophysicists, it should be easy to create and observe it using the ATLAS detector, right?\n",
    "\n",
    "Unfortunately, not. Because we can't directly observe dark matter, there are many hypotheses of what it actually is. One hypothesis, or model, that we will be searching for is called a Weakly Interacting Massive Particle (WIMP).\n",
    "\n",
    "As you can guess from the name, this type of dark matter particle is hard to detect because it doesn't really interact with other things. For example WIMPs don't interact with electromagnetic radiation, including light. Hence, we can't see them!\n",
    "\n",
    "So what can we do to detect dark matter? Well if we can't see the dark matter around us, let's make the dark matter ourselves and see what happens!\n",
    "\n",
    "At the LHC we collide particles together and look at new particles that are created from these collisions. What we can do is collide protons and look to see if any of those collisions produce dark matter particles! In the next section, we'll specifically look at the hypothesised process that creates dark matter.\n",
    "\n",
    "We will focus our search in invisibly decaying Higgs boson or dark matter candidates produced in association with a leptonically decaying Z boson in proton–proton collisions.\n",
    "\n",
    "The search is carried out in a final state with two isolated electrons or muons from a Z boson decay and large missing transverse momentum (ETmiss) due to an invisible Higgs boson decay or a WIMP pair (ll + ETmiss).\n",
    "\n",
    "\n",
    "![ZMET](ZMET.png)\n",
    "- [Link](https://doi.org/10.1016/j.physletb.2016.10.042) Search for dark matter produced in association with a hadronically decaying vector boson in pp collisions at s=sqrt 13 TeV with the ATLAS detector.\n",
    "\n",
    "\n",
    "\n",
    "Also the selection criteria and background processes chosen for this events were collected from [here](https://doi.org/10.1016/j.physletb.2017.11.049)\n",
    "\n",
    "\n",
    "![cuts](selection.png)\n",
    "\n",
    "- [Link](https://doi.org/10.1016/j.physletb.2017.11.049) Search for an invisibly decaying Higgs boson or dark matter candidates produced in association with a Z boson in pp collisions at s=sqrt 13 TeV with the ATLAS detector.\n",
    "\n",
    "\n",
    "\n",
    "# Let's get started!\n",
    "\n",
    "\n",
    "[Back to contents](#contents)"
   ]
  },
  {
   "cell_type": "markdown",
   "metadata": {},
   "source": [
    "<a id='running'></a>\n",
    "\n",
    "## Running a Jupyter notebook\n",
    "\n",
    "You can run a single code cell by clicking on it then pressing Shift+Enter on your keyboard.\n",
    "\n"
   ]
  },
  {
   "cell_type": "markdown",
   "metadata": {},
   "source": [
    "<a id='setup_everytime'></a>\n",
    "\n",
    "## To setup everytime\n",
    "\n",
    "to be run every time you re-open this notebook\n",
    "\n",
    "We're going to be using a number of tools to help us:\n",
    "* pandas: lets us store data as dataframes, a format widely used in Machine Learning\n",
    "* numpy: provides numerical calculations such as histogramming\n",
    "* matplotlib: common tool for making plots, figures, images, visualisations"
   ]
  },
  {
   "cell_type": "code",
   "execution_count": 1,
   "metadata": {},
   "outputs": [],
   "source": [
    "import pandas # to store data as dataframe\n",
    "import numpy # for numerical calculations such as histogramming\n",
    "import matplotlib.pyplot # for plotting"
   ]
  },
  {
   "cell_type": "markdown",
   "metadata": {},
   "source": [
    "<a id='processes'></a>\n",
    "\n",
    "## Processes\n",
    "\n",
    "The Dark Matter process we'll be looking for is <font color='red'>'DM_300'</font>, which we call \"<font color='purple'>signal</font>\". The others are processes that may look like our <font color='purple'>signal</font>, so we have to consider them as well, which we call \"<font color='red'>backgrounds</font>\"."
   ]
  },
  {
   "cell_type": "code",
   "execution_count": 2,
   "metadata": {},
   "outputs": [],
   "source": [
    "processes = ['Non-resonant_ll','Z+jets','WZ','ZZ','DM_300']"
   ]
  },
  {
   "cell_type": "markdown",
   "metadata": {},
   "source": [
    "This is where the data files are read"
   ]
  },
  {
   "cell_type": "code",
   "execution_count": 3,
   "metadata": {
    "scrolled": false
   },
   "outputs": [
    {
     "name": "stdout",
     "output_type": "stream",
     "text": [
      "Non-resonant_ll\n",
      "Z+jets\n",
      "WZ\n",
      "ZZ\n",
      "DM_300\n"
     ]
    }
   ],
   "source": [
    "data_all = {} # dictionary to hold all data\n",
    "for s in processes: # loop over different processes\n",
    "    print(s)\n",
    "    data_all[s] = pandas.read_csv('https://atlas-opendata.web.cern.ch/atlas-opendata/samples/2020/csv/DM_ML_notebook/'+s+'.csv') # read data files"
   ]
  },
  {
   "cell_type": "markdown",
   "metadata": {},
   "source": [
    "[Back to contents](#contents)\n",
    "\n",
    "Let's take a look at the data for the <span style=\"color:red\">'ZZ'</span> process."
   ]
  },
  {
   "cell_type": "code",
   "execution_count": 4,
   "metadata": {},
   "outputs": [
    {
     "data": {
      "text/html": [
       "<div>\n",
       "<style scoped>\n",
       "    .dataframe tbody tr th:only-of-type {\n",
       "        vertical-align: middle;\n",
       "    }\n",
       "\n",
       "    .dataframe tbody tr th {\n",
       "        vertical-align: top;\n",
       "    }\n",
       "\n",
       "    .dataframe thead th {\n",
       "        text-align: right;\n",
       "    }\n",
       "</style>\n",
       "<table border=\"1\" class=\"dataframe\">\n",
       "  <thead>\n",
       "    <tr style=\"text-align: right;\">\n",
       "      <th></th>\n",
       "      <th>totalWeight</th>\n",
       "      <th>sum_lep_charge</th>\n",
       "      <th>lead_lep_pt</th>\n",
       "      <th>sublead_lep_pt</th>\n",
       "      <th>mll</th>\n",
       "      <th>ETmiss</th>\n",
       "      <th>dRll</th>\n",
       "      <th>dphi_pTll_ETmiss</th>\n",
       "      <th>fractional_pT_difference</th>\n",
       "      <th>ETmiss_over_HT</th>\n",
       "      <th>N_bjets</th>\n",
       "    </tr>\n",
       "  </thead>\n",
       "  <tbody>\n",
       "    <tr>\n",
       "      <th>0</th>\n",
       "      <td>-0.027416</td>\n",
       "      <td>0</td>\n",
       "      <td>71.047820</td>\n",
       "      <td>32.137652</td>\n",
       "      <td>62.644781</td>\n",
       "      <td>95.006336</td>\n",
       "      <td>1.311033</td>\n",
       "      <td>2.710064</td>\n",
       "      <td>0.010718</td>\n",
       "      <td>0.663473</td>\n",
       "      <td>0</td>\n",
       "    </tr>\n",
       "    <tr>\n",
       "      <th>1</th>\n",
       "      <td>0.003059</td>\n",
       "      <td>0</td>\n",
       "      <td>135.839234</td>\n",
       "      <td>125.675648</td>\n",
       "      <td>96.340836</td>\n",
       "      <td>261.387844</td>\n",
       "      <td>0.751035</td>\n",
       "      <td>2.523028</td>\n",
       "      <td>0.005747</td>\n",
       "      <td>0.570956</td>\n",
       "      <td>0</td>\n",
       "    </tr>\n",
       "    <tr>\n",
       "      <th>2</th>\n",
       "      <td>0.039517</td>\n",
       "      <td>0</td>\n",
       "      <td>114.778328</td>\n",
       "      <td>26.994449</td>\n",
       "      <td>97.414489</td>\n",
       "      <td>100.849180</td>\n",
       "      <td>1.927345</td>\n",
       "      <td>3.141085</td>\n",
       "      <td>0.089636</td>\n",
       "      <td>0.610257</td>\n",
       "      <td>0</td>\n",
       "    </tr>\n",
       "    <tr>\n",
       "      <th>3</th>\n",
       "      <td>0.029250</td>\n",
       "      <td>0</td>\n",
       "      <td>63.946281</td>\n",
       "      <td>60.070992</td>\n",
       "      <td>88.347870</td>\n",
       "      <td>85.599453</td>\n",
       "      <td>1.537237</td>\n",
       "      <td>3.106254</td>\n",
       "      <td>0.080803</td>\n",
       "      <td>0.690222</td>\n",
       "      <td>0</td>\n",
       "    </tr>\n",
       "    <tr>\n",
       "      <th>4</th>\n",
       "      <td>0.003513</td>\n",
       "      <td>0</td>\n",
       "      <td>116.763242</td>\n",
       "      <td>42.810539</td>\n",
       "      <td>91.717687</td>\n",
       "      <td>166.612156</td>\n",
       "      <td>1.404091</td>\n",
       "      <td>3.048883</td>\n",
       "      <td>0.013493</td>\n",
       "      <td>0.691578</td>\n",
       "      <td>0</td>\n",
       "    </tr>\n",
       "    <tr>\n",
       "      <th>...</th>\n",
       "      <td>...</td>\n",
       "      <td>...</td>\n",
       "      <td>...</td>\n",
       "      <td>...</td>\n",
       "      <td>...</td>\n",
       "      <td>...</td>\n",
       "      <td>...</td>\n",
       "      <td>...</td>\n",
       "      <td>...</td>\n",
       "      <td>...</td>\n",
       "      <td>...</td>\n",
       "    </tr>\n",
       "    <tr>\n",
       "      <th>9533</th>\n",
       "      <td>0.004445</td>\n",
       "      <td>0</td>\n",
       "      <td>56.719008</td>\n",
       "      <td>27.982125</td>\n",
       "      <td>75.647385</td>\n",
       "      <td>85.264977</td>\n",
       "      <td>1.758040</td>\n",
       "      <td>2.977628</td>\n",
       "      <td>0.026521</td>\n",
       "      <td>0.530827</td>\n",
       "      <td>1</td>\n",
       "    </tr>\n",
       "    <tr>\n",
       "      <th>9534</th>\n",
       "      <td>0.002551</td>\n",
       "      <td>0</td>\n",
       "      <td>64.996309</td>\n",
       "      <td>35.529047</td>\n",
       "      <td>89.351463</td>\n",
       "      <td>130.122180</td>\n",
       "      <td>1.989760</td>\n",
       "      <td>2.319482</td>\n",
       "      <td>0.080313</td>\n",
       "      <td>0.655267</td>\n",
       "      <td>0</td>\n",
       "    </tr>\n",
       "    <tr>\n",
       "      <th>9535</th>\n",
       "      <td>0.004256</td>\n",
       "      <td>0</td>\n",
       "      <td>101.452180</td>\n",
       "      <td>43.186754</td>\n",
       "      <td>93.196331</td>\n",
       "      <td>329.000406</td>\n",
       "      <td>1.561961</td>\n",
       "      <td>2.782490</td>\n",
       "      <td>0.054490</td>\n",
       "      <td>0.763554</td>\n",
       "      <td>0</td>\n",
       "    </tr>\n",
       "    <tr>\n",
       "      <th>9536</th>\n",
       "      <td>0.003677</td>\n",
       "      <td>0</td>\n",
       "      <td>57.407633</td>\n",
       "      <td>39.978078</td>\n",
       "      <td>93.326705</td>\n",
       "      <td>199.754750</td>\n",
       "      <td>1.799303</td>\n",
       "      <td>2.220820</td>\n",
       "      <td>0.033889</td>\n",
       "      <td>0.582254</td>\n",
       "      <td>0</td>\n",
       "    </tr>\n",
       "    <tr>\n",
       "      <th>9537</th>\n",
       "      <td>0.002938</td>\n",
       "      <td>0</td>\n",
       "      <td>186.941922</td>\n",
       "      <td>105.385555</td>\n",
       "      <td>88.357959</td>\n",
       "      <td>268.721187</td>\n",
       "      <td>0.640393</td>\n",
       "      <td>3.135833</td>\n",
       "      <td>0.018543</td>\n",
       "      <td>0.533415</td>\n",
       "      <td>0</td>\n",
       "    </tr>\n",
       "  </tbody>\n",
       "</table>\n",
       "<p>9538 rows × 11 columns</p>\n",
       "</div>"
      ],
      "text/plain": [
       "      totalWeight  sum_lep_charge  lead_lep_pt  sublead_lep_pt        mll  \\\n",
       "0       -0.027416               0    71.047820       32.137652  62.644781   \n",
       "1        0.003059               0   135.839234      125.675648  96.340836   \n",
       "2        0.039517               0   114.778328       26.994449  97.414489   \n",
       "3        0.029250               0    63.946281       60.070992  88.347870   \n",
       "4        0.003513               0   116.763242       42.810539  91.717687   \n",
       "...           ...             ...          ...             ...        ...   \n",
       "9533     0.004445               0    56.719008       27.982125  75.647385   \n",
       "9534     0.002551               0    64.996309       35.529047  89.351463   \n",
       "9535     0.004256               0   101.452180       43.186754  93.196331   \n",
       "9536     0.003677               0    57.407633       39.978078  93.326705   \n",
       "9537     0.002938               0   186.941922      105.385555  88.357959   \n",
       "\n",
       "          ETmiss      dRll  dphi_pTll_ETmiss  fractional_pT_difference  \\\n",
       "0      95.006336  1.311033          2.710064                  0.010718   \n",
       "1     261.387844  0.751035          2.523028                  0.005747   \n",
       "2     100.849180  1.927345          3.141085                  0.089636   \n",
       "3      85.599453  1.537237          3.106254                  0.080803   \n",
       "4     166.612156  1.404091          3.048883                  0.013493   \n",
       "...          ...       ...               ...                       ...   \n",
       "9533   85.264977  1.758040          2.977628                  0.026521   \n",
       "9534  130.122180  1.989760          2.319482                  0.080313   \n",
       "9535  329.000406  1.561961          2.782490                  0.054490   \n",
       "9536  199.754750  1.799303          2.220820                  0.033889   \n",
       "9537  268.721187  0.640393          3.135833                  0.018543   \n",
       "\n",
       "      ETmiss_over_HT  N_bjets  \n",
       "0           0.663473        0  \n",
       "1           0.570956        0  \n",
       "2           0.610257        0  \n",
       "3           0.690222        0  \n",
       "4           0.691578        0  \n",
       "...              ...      ...  \n",
       "9533        0.530827        1  \n",
       "9534        0.655267        0  \n",
       "9535        0.763554        0  \n",
       "9536        0.582254        0  \n",
       "9537        0.533415        0  \n",
       "\n",
       "[9538 rows x 11 columns]"
      ]
     },
     "execution_count": 4,
     "metadata": {},
     "output_type": "execute_result"
    }
   ],
   "source": [
    "data_all['ZZ']"
   ]
  },
  {
   "cell_type": "markdown",
   "metadata": {},
   "source": [
    "<a id='task1'></a>\n",
    "👇👇\n",
    "### Task 1: Can you print the <font color='red'>'DM_300'</font> table?\n",
    "\n",
    "\n"
   ]
  },
  {
   "cell_type": "markdown",
   "metadata": {},
   "source": [
    "<html>\n",
    "<details>\n",
    "<summary style=\"color:orange; font-weight: bold;\">Click me for Hint 1</summary>\n",
    " \n",
    "All you need to do compared to `data_all['ZZ']` above is change <span style=\"color:red\">ZZ</span> to <span style=\"color:red\">DM_300</span>\n",
    "    \n",
    "</details>\n",
    "</html>"
   ]
  },
  {
   "cell_type": "markdown",
   "metadata": {},
   "source": [
    "<html>\n",
    "<details>\n",
    "<summary style=\"color:orange; font-weight: bold;\">Click me for Solution 1</summary>\n",
    " \n",
    "```python\n",
    "data_all['DM_300']\n",
    "```\n",
    "    \n",
    "</details>\n",
    "</html>"
   ]
  },
  {
   "cell_type": "code",
   "execution_count": 5,
   "metadata": {},
   "outputs": [],
   "source": [
    "# your code for Task 1 here\n"
   ]
  },
  {
   "cell_type": "markdown",
   "metadata": {},
   "source": [
    "📌 Also you can print the keys of your table"
   ]
  },
  {
   "cell_type": "code",
   "execution_count": 6,
   "metadata": {},
   "outputs": [
    {
     "data": {
      "text/plain": [
       "Index(['totalWeight', 'sum_lep_charge', 'lead_lep_pt', 'sublead_lep_pt', 'mll',\n",
       "       'ETmiss', 'dRll', 'dphi_pTll_ETmiss', 'fractional_pT_difference',\n",
       "       'ETmiss_over_HT', 'N_bjets'],\n",
       "      dtype='object')"
      ]
     },
     "execution_count": 6,
     "metadata": {},
     "output_type": "execute_result"
    }
   ],
   "source": [
    "data_all[\"DM_300\"].keys()"
   ]
  },
  {
   "cell_type": "markdown",
   "metadata": {},
   "source": [
    "The dataset for each process is like a table of values. Each row is a different particle collision (what we call *event*). Each column is a different variable measured in that particle collision.\n",
    "\n",
    "📌 the variables in this dataset are previously reconstructed for this particular analysis, usually the dataset from **CERN** are **ROOT** files, those are compressed binary files in which we can save objects of any type.\n",
    "\n",
    "\n",
    "Let's make some graphs of the different variables in our datasets.\n",
    "\n",
    "First, the leading lepton $p_T$ (<font color='red'>'lead_lep_pt'</font>)"
   ]
  },
  {
   "cell_type": "markdown",
   "metadata": {},
   "source": [
    "Let's first look at the <font color='red'>'lead_lep_pt'</font> column of the <font color='red'>'DM_300'</font> data table."
   ]
  },
  {
   "cell_type": "code",
   "execution_count": 7,
   "metadata": {},
   "outputs": [
    {
     "data": {
      "text/plain": [
       "0      113.229602\n",
       "1       89.615922\n",
       "2      112.169008\n",
       "3      108.710273\n",
       "4       85.937289\n",
       "          ...    \n",
       "486     78.753086\n",
       "487     94.828984\n",
       "488    121.088344\n",
       "489    166.182469\n",
       "490     63.209102\n",
       "Name: lead_lep_pt, Length: 491, dtype: float64"
      ]
     },
     "execution_count": 7,
     "metadata": {},
     "output_type": "execute_result"
    }
   ],
   "source": [
    "data_all['DM_300']['lead_lep_pt']"
   ]
  },
  {
   "cell_type": "markdown",
   "metadata": {},
   "source": [
    "Now let's plot this in a histogram."
   ]
  },
  {
   "cell_type": "code",
   "execution_count": 8,
   "metadata": {},
   "outputs": [
    {
     "data": {
      "text/plain": [
       "(array([196., 177.,  52.,  28.,  21.,  10.,   3.,   3.,   0.,   1.]),\n",
       " array([ 47.08450391, 100.28201602, 153.47952813, 206.67704023,\n",
       "        259.87455234, 313.07206445, 366.26957656, 419.46708867,\n",
       "        472.66460078, 525.86211289, 579.059625  ]),\n",
       " <BarContainer object of 10 artists>)"
      ]
     },
     "execution_count": 8,
     "metadata": {},
     "output_type": "execute_result"
    },
    {
     "data": {
      "image/png": "[encoded data removed]",
      "text/plain": [
       "<Figure size 432x288 with 1 Axes>"
      ]
     },
     "metadata": {
      "needs_background": "light"
     },
     "output_type": "display_data"
    }
   ],
   "source": [
    "matplotlib.pyplot.hist(data_all['DM_300']['lead_lep_pt'])"
   ]
  },
  {
   "cell_type": "markdown",
   "metadata": {},
   "source": [
    "It's always a good idea to add an x-axis label to your graph."
   ]
  },
  {
   "cell_type": "code",
   "execution_count": 9,
   "metadata": {},
   "outputs": [
    {
     "data": {
      "text/plain": [
       "Text(0.5, 0, 'lead_lep_pt')"
      ]
     },
     "execution_count": 9,
     "metadata": {},
     "output_type": "execute_result"
    },
    {
     "data": {
      "image/png": "[encoded data removed]",
      "text/plain": [
       "<Figure size 432x288 with 1 Axes>"
      ]
     },
     "metadata": {
      "needs_background": "light"
     },
     "output_type": "display_data"
    }
   ],
   "source": [
    "matplotlib.pyplot.hist(data_all['DM_300']['lead_lep_pt'])\n",
    "matplotlib.pyplot.xlabel('lead_lep_pt') # x-axis label"
   ]
  },
  {
   "cell_type": "markdown",
   "metadata": {},
   "source": [
    "...and x-axis units!"
   ]
  },
  {
   "cell_type": "code",
   "execution_count": 10,
   "metadata": {},
   "outputs": [
    {
     "data": {
      "text/plain": [
       "Text(0.5, 0, 'lead_lep_pt [GeV]')"
      ]
     },
     "execution_count": 10,
     "metadata": {},
     "output_type": "execute_result"
    },
    {
     "data": {
      "image/png": "[encoded data removed]",
      "text/plain": [
       "<Figure size 432x288 with 1 Axes>"
      ]
     },
     "metadata": {
      "needs_background": "light"
     },
     "output_type": "display_data"
    }
   ],
   "source": [
    "matplotlib.pyplot.hist(data_all['DM_300']['lead_lep_pt'])\n",
    "matplotlib.pyplot.xlabel('lead_lep_pt [GeV]') # x-axis label"
   ]
  },
  {
   "cell_type": "markdown",
   "metadata": {},
   "source": [
    "...and a y-axis label."
   ]
  },
  {
   "cell_type": "code",
   "execution_count": 11,
   "metadata": {},
   "outputs": [
    {
     "data": {
      "text/plain": [
       "Text(0, 0.5, 'Events')"
      ]
     },
     "execution_count": 11,
     "metadata": {},
     "output_type": "execute_result"
    },
    {
     "data": {
      "image/png": "[encoded data removed]",
      "text/plain": [
       "<Figure size 432x288 with 1 Axes>"
      ]
     },
     "metadata": {
      "needs_background": "light"
     },
     "output_type": "display_data"
    }
   ],
   "source": [
    "matplotlib.pyplot.hist(data_all['DM_300']['lead_lep_pt'])\n",
    "matplotlib.pyplot.xlabel('lead_lep_pt [GeV]') # x-axis label\n",
    "matplotlib.pyplot.ylabel('Events') # y-axis label"
   ]
  },
  {
   "cell_type": "markdown",
   "metadata": {},
   "source": [
    "It's also a good idea to add a label and a legend to a graph."
   ]
  },
  {
   "cell_type": "code",
   "execution_count": 12,
   "metadata": {},
   "outputs": [
    {
     "data": {
      "text/plain": [
       "<matplotlib.legend.Legend at 0x7f1055de0d00>"
      ]
     },
     "execution_count": 12,
     "metadata": {},
     "output_type": "execute_result"
    },
    {
     "data": {
      "image/png": "[encoded data removed]",
      "text/plain": [
       "<Figure size 432x288 with 1 Axes>"
      ]
     },
     "metadata": {
      "needs_background": "light"
     },
     "output_type": "display_data"
    }
   ],
   "source": [
    "matplotlib.pyplot.hist(data_all['DM_300']['lead_lep_pt'], label='DM')\n",
    "matplotlib.pyplot.xlabel('lead_lep_pt [GeV]') # x-axis label\n",
    "matplotlib.pyplot.ylabel('Events') # y-axis label\n",
    "matplotlib.pyplot.legend() # add legend to plot"
   ]
  },
  {
   "cell_type": "markdown",
   "metadata": {},
   "source": [
    "<a id='task2'></a>\n",
    "\n",
    "### Task 2: Estimate by eye from the graph above *how many events have <font color='red'>lead_lep_pt</font> below* 100 GeV."
   ]
  },
  {
   "cell_type": "markdown",
   "metadata": {},
   "source": [
    "<html>\n",
    "<details>\n",
    "<summary style=\"color:orange; font-weight: bold;\">Click me for Hint 2</summary>\n",
    " \n",
    "On the x-axis there's 1 bar below 100. Read across from the top of that bar to the y-axis to get the number of events.\n",
    "    \n",
    "</details>\n",
    "</html>"
   ]
  },
  {
   "cell_type": "markdown",
   "metadata": {},
   "source": [
    "<html>\n",
    "<details>\n",
    "<summary style=\"color:orange; font-weight: bold;\">Click me for Solution 2</summary>\n",
    " \n",
    "About 190\n",
    "    \n",
    "</details>\n",
    "</html>"
   ]
  },
  {
   "cell_type": "markdown",
   "metadata": {},
   "source": [
    "<a id='task3'></a>\n",
    "\n",
    "### Task 3: Estimate by eye from the graph above *how many events have <font color='red'>lead_lep_pt</font> between* 100 and 150 GeV."
   ]
  },
  {
   "cell_type": "markdown",
   "metadata": {},
   "source": [
    "<html>\n",
    "<details>\n",
    "<summary style=\"color:orange; font-weight: bold;\">Click me for Hint 3</summary>\n",
    " \n",
    "On the x-axis there's 1 bar between 100 and 150. Read across from the top of that bar to the y-axis to get the number of data points.\n",
    "    \n",
    "</details>\n",
    "</html>"
   ]
  },
  {
   "cell_type": "markdown",
   "metadata": {},
   "source": [
    "<html>\n",
    "<details>\n",
    "<summary style=\"color:orange; font-weight: bold;\">Click me for Solution 3</summary>\n",
    " \n",
    "About 175\n",
    "    \n",
    "</details>\n",
    "</html>"
   ]
  },
  {
   "cell_type": "markdown",
   "metadata": {},
   "source": [
    "<a id='task4'></a>\n",
    "\n",
    "### Task 4: Estimate by eye from the graph above *how many data points have <font color='red'>lead_lep_pt</font> above* 500 GeV."
   ]
  },
  {
   "cell_type": "markdown",
   "metadata": {},
   "source": [
    "<html>\n",
    "<details>\n",
    "<summary style=\"color:orange; font-weight: bold;\">Click me for Hint 4</summary>\n",
    " \n",
    "On the x-axis there's 1 bar above 500. Read across from the top of that bar to the y-axis to get the number of events.\n",
    "    \n",
    "</details>\n",
    "</html>"
   ]
  },
  {
   "cell_type": "markdown",
   "metadata": {},
   "source": [
    "<html>\n",
    "<details>\n",
    "<summary style=\"color:orange; font-weight: bold;\">Click me for Solution 4</summary>\n",
    " \n",
    "1? Maybe 2? Not many that's for sure!\n",
    "    \n",
    "</details>\n",
    "</html>"
   ]
  },
  {
   "cell_type": "markdown",
   "metadata": {},
   "source": [
    "<a id='task5'></a>\n",
    "\n",
    "### Task 5: Estimate by eye from the graph above *how many data points have <font color='red'>lead_lep_pt</font> below* 150 GeV."
   ]
  },
  {
   "cell_type": "markdown",
   "metadata": {},
   "source": [
    "<html>\n",
    "<details>\n",
    "<summary style=\"color:orange; font-weight: bold;\">Click me for Hint 5</summary>\n",
    " \n",
    "On the x-axis there are 2 bars below 150. Read across from the top of those bars to the y-axis to get the number of events for each. Add those two numbers together.\n",
    "    \n",
    "</details>\n",
    "</html>"
   ]
  },
  {
   "cell_type": "markdown",
   "metadata": {},
   "source": [
    "<html>\n",
    "<details>\n",
    "<summary style=\"color:orange; font-weight: bold;\">Click me for Solution 5</summary>\n",
    " \n",
    "About 190+175=365\n",
    "    \n",
    "</details>\n",
    "</html>"
   ]
  },
  {
   "cell_type": "markdown",
   "metadata": {},
   "source": [
    "We need to scale the graph using the <font color='red'>'totalWeight'</font> column to get the number of collisions that would actually be measured, as opposed to the number of collisions that were generated by our computer simulations.\n",
    "\n",
    "\n",
    "📌  The number of events generated in the Monte Carlo simulation is arbitrary and is unrelated to the number of events we expect in real data. Usually, we try to generate as many events as possible given the available computer resources (MC simulation is computationally very hard) so we usually have more MC events than real data events. So in order to create MC plots that would show our expectation of what to see in real data, we need to apply some weights.\n",
    "\n",
    "In particle physics, the following formula is used to get the expected number of events in data:\n",
    "\n",
    "Nexp = σ * L * ε,\n",
    "\n",
    "where **σ** is the cross-section of the process of interest, **L** is the integrated luminosity (often called just the luminosity) and **ε** is the efficiency.\n"
   ]
  },
  {
   "cell_type": "code",
   "execution_count": 13,
   "metadata": {},
   "outputs": [
    {
     "data": {
      "text/plain": [
       "<matplotlib.legend.Legend at 0x7f1055caef70>"
      ]
     },
     "execution_count": 13,
     "metadata": {},
     "output_type": "execute_result"
    },
    {
     "data": {
      "image/png": "[encoded data removed]",
      "text/plain": [
       "<Figure size 432x288 with 1 Axes>"
      ]
     },
     "metadata": {
      "needs_background": "light"
     },
     "output_type": "display_data"
    }
   ],
   "source": [
    "matplotlib.pyplot.hist(data_all['DM_300']['lead_lep_pt'], weights=data_all['DM_300']['totalWeight'], label='DM')\n",
    "matplotlib.pyplot.xlabel('lead_lep_pt [GeV]') # x-axis label\n",
    "matplotlib.pyplot.ylabel('Weighted Events') # y-axis label\n",
    "matplotlib.pyplot.legend() # add legend to plot"
   ]
  },
  {
   "cell_type": "markdown",
   "metadata": {},
   "source": [
    "<a id='task6'></a>\n",
    "\n",
    "### Task 6: Comparing the above graph without weighting and the graph with weighting, estimate by eye the *average value of <font color='red'>totalWeight</font> in the <font color='red'>DM_300</font> data."
   ]
  },
  {
   "cell_type": "code",
   "execution_count": null,
   "metadata": {},
   "outputs": [],
   "source": []
  },
  {
   "cell_type": "markdown",
   "metadata": {},
   "source": [
    "You can also use python as a calculator like:"
   ]
  },
  {
   "cell_type": "code",
   "execution_count": 14,
   "metadata": {},
   "outputs": [
    {
     "data": {
      "text/plain": [
       "0.07851239669421488"
      ]
     },
     "execution_count": 14,
     "metadata": {},
     "output_type": "execute_result"
    }
   ],
   "source": [
    "342/4356"
   ]
  },
  {
   "cell_type": "markdown",
   "metadata": {},
   "source": [
    "<html>\n",
    "<details>\n",
    "<summary style=\"color:orange; font-weight: bold;\">Click me for Hint 6</summary>\n",
    " \n",
    "You could divide the number of weighted events in the first bar by the number of events in the first bar to get an estimate.\n",
    "    \n",
    "</details>\n",
    "</html>"
   ]
  },
  {
   "cell_type": "markdown",
   "metadata": {},
   "source": [
    "<html>\n",
    "<details>\n",
    "<summary style=\"color:orange; font-weight: bold;\">Click me for Solution 6</summary>\n",
    " \n",
    "About 12.2/190 = 0.064\n",
    "    \n",
    "</details>\n",
    "</html>"
   ]
  },
  {
   "cell_type": "markdown",
   "metadata": {},
   "source": [
    "<a id='task7'></a>\n",
    "\n",
    "### Task 7: Plot other variables of interest like Missing Et and the Lepton Invariant Mass, using <font color='red'>totalWeight</font> in the <font color='red'>DM_300</font> data."
   ]
  },
  {
   "cell_type": "code",
   "execution_count": 15,
   "metadata": {
    "scrolled": true
   },
   "outputs": [],
   "source": [
    "#Your code here"
   ]
  },
  {
   "cell_type": "markdown",
   "metadata": {},
   "source": [
    "<html>\n",
    "<details>\n",
    "<summary style=\"color:orange; font-weight: bold;\">Click me for Solution 7</summary>\n",
    "\n",
    "```python\n",
    "    \n",
    "##ploting ETmiss    \n",
    "matplotlib.pyplot.hist(data_all['DM_300']['ETmiss'], weights=data_all['DM_300']['totalWeight'], label='DM')\n",
    "matplotlib.pyplot.xlabel('ETmiss [GeV]') # x-axis label\n",
    "matplotlib.pyplot.ylabel('Weighted Events') # y-axis label\n",
    "matplotlib.pyplot.legend() # add legend to plot\n",
    "\n",
    "##plotting mll\n",
    "matplotlib.pyplot.hist(data_all['DM_300']['mll'], weights=data_all['DM_300']['totalWeight'], label='DM')\n",
    "matplotlib.pyplot.xlabel('mll [GeV]') # x-axis label\n",
    "matplotlib.pyplot.ylabel('Weighted Events') # y-axis label\n",
    "matplotlib.pyplot.legend() # add legend to plot    \n",
    "    \n",
    "```\n",
    "</details>\n",
    "</html>"
   ]
  },
  {
   "cell_type": "markdown",
   "metadata": {},
   "source": [
    "📌 \n",
    "## What is the mean value for the Invariant Mass plot ? \n",
    "\n"
   ]
  },
  {
   "cell_type": "markdown",
   "metadata": {},
   "source": [
    "Now we need to stack the processes on top of each other in the graph. To do this, we <font color='green'>for</font> loop over the different processes."
   ]
  },
  {
   "cell_type": "code",
   "execution_count": 16,
   "metadata": {},
   "outputs": [
    {
     "data": {
      "text/plain": [
       "<matplotlib.legend.Legend at 0x7f1055adae20>"
      ]
     },
     "execution_count": 16,
     "metadata": {},
     "output_type": "execute_result"
    },
    {
     "data": {
      "image/png": "[encoded data removed]",
      "text/plain": [
       "<Figure size 432x288 with 1 Axes>"
      ]
     },
     "metadata": {
      "needs_background": "light"
     },
     "output_type": "display_data"
    }
   ],
   "source": [
    "stacked_variable = [] # list to hold variable to stack\n",
    "stacked_weight = [] # list to hold weights to stack\n",
    "\n",
    "for s in processes: # loop over different processes\n",
    "    stacked_variable.append(data_all[s]['lead_lep_pt']) # get each value of variables\n",
    "    stacked_weight.append(data_all[s]['totalWeight']) # get each value of weight\n",
    "    \n",
    "#Ploting the histogram    \n",
    "matplotlib.pyplot.hist(stacked_variable, weights=stacked_weight, label=processes, stacked=True)\n",
    "matplotlib.pyplot.xlabel('lead_lep_pt [GeV]') # x-axis label\n",
    "matplotlib.pyplot.ylabel('Weighted Events') # y-axis label\n",
    "matplotlib.pyplot.legend() # add legend to plot"
   ]
  },
  {
   "cell_type": "markdown",
   "metadata": {},
   "source": [
    "In order to identify the events for DM particle production, we need to apply the object-selection criteria or\n",
    "\n",
    "👇👇"
   ]
  },
  {
   "cell_type": "markdown",
   "metadata": {},
   "source": [
    "## Cuts"
   ]
  },
  {
   "cell_type": "code",
   "execution_count": 19,
   "metadata": {
    "scrolled": true
   },
   "outputs": [
    {
     "data": {
      "text/plain": [
       "0      False\n",
       "1      False\n",
       "2      False\n",
       "3      False\n",
       "4      False\n",
       "       ...  \n",
       "486    False\n",
       "487    False\n",
       "488    False\n",
       "489    False\n",
       "490    False\n",
       "Name: mll, Length: 491, dtype: bool"
      ]
     },
     "execution_count": 19,
     "metadata": {},
     "output_type": "execute_result"
    }
   ],
   "source": [
    "dtdmcuts = data_all['DM_300']['mll']>120.00 # play with the selection criteria to see how the match\n",
    "\n",
    "dtdmcuts\n",
    "\n"
   ]
  },
  {
   "cell_type": "markdown",
   "metadata": {},
   "source": [
    "After playing a bit with cuts to see how they respond to several criteria, we need to apply the cuts for our analysis:\n",
    "- Two leptons only from Z boson.\n",
    "- High ETmiss."
   ]
  },
  {
   "cell_type": "code",
   "execution_count": 20,
   "metadata": {},
   "outputs": [
    {
     "data": {
      "text/html": [
       "<div>\n",
       "<style scoped>\n",
       "    .dataframe tbody tr th:only-of-type {\n",
       "        vertical-align: middle;\n",
       "    }\n",
       "\n",
       "    .dataframe tbody tr th {\n",
       "        vertical-align: top;\n",
       "    }\n",
       "\n",
       "    .dataframe thead th {\n",
       "        text-align: right;\n",
       "    }\n",
       "</style>\n",
       "<table border=\"1\" class=\"dataframe\">\n",
       "  <thead>\n",
       "    <tr style=\"text-align: right;\">\n",
       "      <th></th>\n",
       "      <th>totalWeight</th>\n",
       "      <th>sum_lep_charge</th>\n",
       "      <th>lead_lep_pt</th>\n",
       "      <th>sublead_lep_pt</th>\n",
       "      <th>mll</th>\n",
       "      <th>ETmiss</th>\n",
       "      <th>dRll</th>\n",
       "      <th>dphi_pTll_ETmiss</th>\n",
       "      <th>fractional_pT_difference</th>\n",
       "      <th>ETmiss_over_HT</th>\n",
       "      <th>N_bjets</th>\n",
       "    </tr>\n",
       "  </thead>\n",
       "  <tbody>\n",
       "    <tr>\n",
       "      <th>3</th>\n",
       "      <td>0.067919</td>\n",
       "      <td>0</td>\n",
       "      <td>108.710273</td>\n",
       "      <td>93.620266</td>\n",
       "      <td>89.113704</td>\n",
       "      <td>221.266453</td>\n",
       "      <td>0.872517</td>\n",
       "      <td>3.052979</td>\n",
       "      <td>0.005579</td>\n",
       "      <td>0.940918</td>\n",
       "      <td>0</td>\n",
       "    </tr>\n",
       "    <tr>\n",
       "      <th>5</th>\n",
       "      <td>0.000174</td>\n",
       "      <td>0</td>\n",
       "      <td>79.053664</td>\n",
       "      <td>38.200391</td>\n",
       "      <td>89.623643</td>\n",
       "      <td>226.343984</td>\n",
       "      <td>1.735517</td>\n",
       "      <td>2.947612</td>\n",
       "      <td>0.013806</td>\n",
       "      <td>0.889046</td>\n",
       "      <td>0</td>\n",
       "    </tr>\n",
       "    <tr>\n",
       "      <th>8</th>\n",
       "      <td>0.034657</td>\n",
       "      <td>0</td>\n",
       "      <td>188.996453</td>\n",
       "      <td>177.431531</td>\n",
       "      <td>90.325784</td>\n",
       "      <td>342.348906</td>\n",
       "      <td>0.497169</td>\n",
       "      <td>3.039990</td>\n",
       "      <td>0.021653</td>\n",
       "      <td>0.866413</td>\n",
       "      <td>0</td>\n",
       "    </tr>\n",
       "    <tr>\n",
       "      <th>10</th>\n",
       "      <td>0.067610</td>\n",
       "      <td>0</td>\n",
       "      <td>186.704344</td>\n",
       "      <td>71.938375</td>\n",
       "      <td>88.491016</td>\n",
       "      <td>237.376266</td>\n",
       "      <td>0.776001</td>\n",
       "      <td>3.025616</td>\n",
       "      <td>0.035032</td>\n",
       "      <td>0.917777</td>\n",
       "      <td>0</td>\n",
       "    </tr>\n",
       "    <tr>\n",
       "      <th>11</th>\n",
       "      <td>0.110482</td>\n",
       "      <td>0</td>\n",
       "      <td>165.282953</td>\n",
       "      <td>118.880961</td>\n",
       "      <td>100.083266</td>\n",
       "      <td>269.230406</td>\n",
       "      <td>0.725428</td>\n",
       "      <td>3.107656</td>\n",
       "      <td>0.002221</td>\n",
       "      <td>0.947448</td>\n",
       "      <td>0</td>\n",
       "    </tr>\n",
       "    <tr>\n",
       "      <th>...</th>\n",
       "      <td>...</td>\n",
       "      <td>...</td>\n",
       "      <td>...</td>\n",
       "      <td>...</td>\n",
       "      <td>...</td>\n",
       "      <td>...</td>\n",
       "      <td>...</td>\n",
       "      <td>...</td>\n",
       "      <td>...</td>\n",
       "      <td>...</td>\n",
       "      <td>...</td>\n",
       "    </tr>\n",
       "    <tr>\n",
       "      <th>477</th>\n",
       "      <td>0.032190</td>\n",
       "      <td>0</td>\n",
       "      <td>258.192313</td>\n",
       "      <td>113.454172</td>\n",
       "      <td>96.298442</td>\n",
       "      <td>353.077906</td>\n",
       "      <td>0.565842</td>\n",
       "      <td>3.071507</td>\n",
       "      <td>0.026560</td>\n",
       "      <td>0.950037</td>\n",
       "      <td>0</td>\n",
       "    </tr>\n",
       "    <tr>\n",
       "      <th>479</th>\n",
       "      <td>0.075208</td>\n",
       "      <td>0</td>\n",
       "      <td>115.740711</td>\n",
       "      <td>51.361859</td>\n",
       "      <td>86.434064</td>\n",
       "      <td>468.438875</td>\n",
       "      <td>1.090533</td>\n",
       "      <td>3.016603</td>\n",
       "      <td>0.149223</td>\n",
       "      <td>0.586167</td>\n",
       "      <td>0</td>\n",
       "    </tr>\n",
       "    <tr>\n",
       "      <th>484</th>\n",
       "      <td>0.041037</td>\n",
       "      <td>0</td>\n",
       "      <td>151.678000</td>\n",
       "      <td>49.389938</td>\n",
       "      <td>97.564606</td>\n",
       "      <td>225.746484</td>\n",
       "      <td>1.074874</td>\n",
       "      <td>2.510083</td>\n",
       "      <td>0.156966</td>\n",
       "      <td>0.791906</td>\n",
       "      <td>0</td>\n",
       "    </tr>\n",
       "    <tr>\n",
       "      <th>485</th>\n",
       "      <td>0.048131</td>\n",
       "      <td>0</td>\n",
       "      <td>144.249594</td>\n",
       "      <td>131.857344</td>\n",
       "      <td>91.029382</td>\n",
       "      <td>232.873734</td>\n",
       "      <td>0.672385</td>\n",
       "      <td>3.059999</td>\n",
       "      <td>0.092221</td>\n",
       "      <td>0.776233</td>\n",
       "      <td>0</td>\n",
       "    </tr>\n",
       "    <tr>\n",
       "      <th>489</th>\n",
       "      <td>0.075400</td>\n",
       "      <td>0</td>\n",
       "      <td>166.182469</td>\n",
       "      <td>79.551945</td>\n",
       "      <td>86.336938</td>\n",
       "      <td>252.362641</td>\n",
       "      <td>0.740335</td>\n",
       "      <td>3.119813</td>\n",
       "      <td>0.038813</td>\n",
       "      <td>1.026973</td>\n",
       "      <td>0</td>\n",
       "    </tr>\n",
       "  </tbody>\n",
       "</table>\n",
       "<p>139 rows × 11 columns</p>\n",
       "</div>"
      ],
      "text/plain": [
       "     totalWeight  sum_lep_charge  lead_lep_pt  sublead_lep_pt         mll  \\\n",
       "3       0.067919               0   108.710273       93.620266   89.113704   \n",
       "5       0.000174               0    79.053664       38.200391   89.623643   \n",
       "8       0.034657               0   188.996453      177.431531   90.325784   \n",
       "10      0.067610               0   186.704344       71.938375   88.491016   \n",
       "11      0.110482               0   165.282953      118.880961  100.083266   \n",
       "..           ...             ...          ...             ...         ...   \n",
       "477     0.032190               0   258.192313      113.454172   96.298442   \n",
       "479     0.075208               0   115.740711       51.361859   86.434064   \n",
       "484     0.041037               0   151.678000       49.389938   97.564606   \n",
       "485     0.048131               0   144.249594      131.857344   91.029382   \n",
       "489     0.075400               0   166.182469       79.551945   86.336938   \n",
       "\n",
       "         ETmiss      dRll  dphi_pTll_ETmiss  fractional_pT_difference  \\\n",
       "3    221.266453  0.872517          3.052979                  0.005579   \n",
       "5    226.343984  1.735517          2.947612                  0.013806   \n",
       "8    342.348906  0.497169          3.039990                  0.021653   \n",
       "10   237.376266  0.776001          3.025616                  0.035032   \n",
       "11   269.230406  0.725428          3.107656                  0.002221   \n",
       "..          ...       ...               ...                       ...   \n",
       "477  353.077906  0.565842          3.071507                  0.026560   \n",
       "479  468.438875  1.090533          3.016603                  0.149223   \n",
       "484  225.746484  1.074874          2.510083                  0.156966   \n",
       "485  232.873734  0.672385          3.059999                  0.092221   \n",
       "489  252.362641  0.740335          3.119813                  0.038813   \n",
       "\n",
       "     ETmiss_over_HT  N_bjets  \n",
       "3          0.940918        0  \n",
       "5          0.889046        0  \n",
       "8          0.866413        0  \n",
       "10         0.917777        0  \n",
       "11         0.947448        0  \n",
       "..              ...      ...  \n",
       "477        0.950037        0  \n",
       "479        0.586167        0  \n",
       "484        0.791906        0  \n",
       "485        0.776233        0  \n",
       "489        1.026973        0  \n",
       "\n",
       "[139 rows x 11 columns]"
      ]
     },
     "execution_count": 20,
     "metadata": {},
     "output_type": "execute_result"
    }
   ],
   "source": [
    "\n",
    "dtcuts = {} # dictionary to hold cut data\n",
    "\n",
    "#loop inthe processes\n",
    "for s in processes:\n",
    "    #print(s)\n",
    "    dtcuts[s] = data_all[s][(data_all[s]['mll']>81.00) & # Z-boson mass - 10 GeV\n",
    "                        (data_all[s]['mll']<101.12) & # Z-boson mass + 10 GeV\n",
    "                        (data_all[s]['ETmiss']>=200.00) #ETmiss > 200 GeV\n",
    "                        ] \n",
    "             \n",
    "\n",
    "dtcuts['DM_300'] # print as table\n",
    "\n",
    "\n",
    "#dtcuts['ZZ'] # print as table\n"
   ]
  },
  {
   "cell_type": "markdown",
   "metadata": {},
   "source": [
    "<a id='task8'></a>\n",
    "\n",
    "### Task 8: Apply cuts from the initial selection criteria table."
   ]
  },
  {
   "cell_type": "markdown",
   "metadata": {},
   "source": [
    "## Plot several variables and see how the histograms change"
   ]
  },
  {
   "cell_type": "code",
   "execution_count": 21,
   "metadata": {},
   "outputs": [
    {
     "data": {
      "text/plain": [
       "<matplotlib.legend.Legend at 0x7f1055a26ee0>"
      ]
     },
     "execution_count": 21,
     "metadata": {},
     "output_type": "execute_result"
    },
    {
     "data": {
      "image/png": "[encoded data removed]",
      "text/plain": [
       "<Figure size 432x288 with 1 Axes>"
      ]
     },
     "metadata": {
      "needs_background": "light"
     },
     "output_type": "display_data"
    }
   ],
   "source": [
    "stacked_variable_cut = [] # list to hold variable to stack\n",
    "stacked_weight_cut = [] # list to hold weights to stack\n",
    "\n",
    "for s in processes: # loop over different processes\n",
    "    stacked_variable_cut.append(dtcuts[s]['lead_lep_pt']) # get each value of variables\n",
    "    stacked_weight_cut.append(dtcuts[s]['totalWeight']) # get each value of weight\n",
    "    \n",
    "#Ploting the histogram    \n",
    "matplotlib.pyplot.hist(stacked_variable_cut, weights=stacked_weight_cut, label=processes, stacked=True)\n",
    "matplotlib.pyplot.xlabel('lead_lep_pt [GeV]') # x-axis label\n",
    "matplotlib.pyplot.ylabel('Weighted Events') # y-axis label\n",
    "matplotlib.pyplot.legend() # add legend to plot"
   ]
  },
  {
   "cell_type": "code",
   "execution_count": 22,
   "metadata": {},
   "outputs": [],
   "source": [
    "#your code here"
   ]
  },
  {
   "cell_type": "markdown",
   "metadata": {},
   "source": [
    "<html>\n",
    "<details>\n",
    "<summary style=\"color:orange; font-weight: bold;\">Click me for Hint</summary>\n",
    " \n",
    "    \n",
    "```python\n",
    "stacked_variable_cut = [] # list to hold variable to stack\n",
    "stacked_weight_cut = [] # list to hold weights to stack\n",
    "\n",
    "for s in processes: # loop over different processes\n",
    "    stacked_variable_cut.append(dtcuts[s]['ETmiss']) # get each value of variables\n",
    "    stacked_weight_cut.append(dtcuts[s]['totalWeight']) # get each value of weight\n",
    "    \n",
    "#Ploting the histogram    \n",
    "matplotlib.pyplot.hist(stacked_variable_cut, weights=stacked_weight_cut, label=processes, stacked=True)\n",
    "matplotlib.pyplot.xlabel('ETmiss [GeV]') # x-axis label\n",
    "matplotlib.pyplot.ylabel('Weighted Events') # y-axis label\n",
    "matplotlib.pyplot.legend() # add legend to plot\n",
    "```\n",
    "    \n",
    "    \n",
    "    \n",
    "</details>\n",
    "</html>\n",
    "\n"
   ]
  },
  {
   "cell_type": "markdown",
   "metadata": {},
   "source": [
    "<a id='task9'></a>\n",
    "\n",
    "### Task 9: Estimate by eye from the graph above *how many <font color='orange'>Z+jets</font> weighted events have <font color='red'>lead_lep_pt</font> below* 125 GeV."
   ]
  },
  {
   "cell_type": "markdown",
   "metadata": {},
   "source": [
    "<html>\n",
    "<details>\n",
    "<summary style=\"color:orange; font-weight: bold;\">Click me for Hint 7</summary>\n",
    " \n",
    "On the x-axis, there's 1 bar below about 125 GeV. Read across to the y-axis from the top of the <font color='orange'>Z+jets</font>. Read across to the y-axis from the bottom of the <font color='orange'>Z+jets</font>. Subtract those two numbers.\n",
    "    \n",
    "</details>\n",
    "</html>"
   ]
  },
  {
   "cell_type": "markdown",
   "metadata": {},
   "source": [
    "<html>\n",
    "<details>\n",
    "<summary style=\"color:orange; font-weight: bold;\">Click me for Solution 7</summary>\n",
    " \n",
    "About 130-80=50\n",
    "    \n",
    "</details>\n",
    "</html>"
   ]
  },
  {
   "cell_type": "markdown",
   "metadata": {},
   "source": [
    "[Back to contents](#contents)\n",
    "\n",
    "In particle physics, we declare that we have evidence for a process such as Dark Matter if we find a \"significance\" over 3.\n",
    "\n",
    "significance = $\\frac{\\text{total signal weights}}{\\sqrt{\\text{total background weights}}}$\n",
    "\n",
    "So let's see what significances we get for different variables. Can we get above 3?"
   ]
  },
  {
   "cell_type": "code",
   "execution_count": 23,
   "metadata": {},
   "outputs": [
    {
     "data": {
      "text/plain": [
       "Text(0, 0.5, 'Significance')"
      ]
     },
     "execution_count": 23,
     "metadata": {},
     "output_type": "execute_result"
    },
    {
     "data": {
      "image/png": "[encoded data removed]",
      "text/plain": [
       "<Figure size 432x288 with 1 Axes>"
      ]
     },
     "metadata": {
      "needs_background": "light"
     },
     "output_type": "display_data"
    }
   ],
   "source": [
    "x_values = [25,50,75,100,125,150,175,200] # the x-values at which significance will be calculated\n",
    "# Taking a look at the leading lepton graph, the maximum x-value at which there's a mix of \n",
    "# different colours present is a bit over 200.\n",
    "# So we wrote the x-values up to 200 in gaps of 25.\n",
    "# If you want, you can try different x-values later and see how it looks.\n",
    "\n",
    "sigs = [] # list to hold significance values\n",
    "for x in x_values: # loop over bins\n",
    "    signal_weights_selected = 0 # start counter for signal weights\n",
    "    background_weights_selected = 0 # start counter for background weights\n",
    "    for s in processes: # loop over background samples\n",
    "        if 'DM' in s: signal_weights_selected += sum(dtcuts[s][dtcuts[s]['lead_lep_pt']>x]['totalWeight'])\n",
    "        else: background_weights_selected += sum(dtcuts[s][dtcuts[s]['lead_lep_pt']>x]['totalWeight'])\n",
    "    sig_value = signal_weights_selected/numpy.sqrt(background_weights_selected)\n",
    "    sigs.append(sig_value) # append to list of significance values\n",
    "\n",
    "matplotlib.pyplot.plot( x_values[:len(sigs)], sigs ) # plot the data points\n",
    "matplotlib.pyplot.ylabel('Significance') # y-axis label"
   ]
  },
  {
   "cell_type": "markdown",
   "metadata": {},
   "source": [
    "<a id='task10'></a>\n",
    "\n",
    "### Task 10: Estimate by eye from the graph above the *maximum significance that can be achieved using <font color='red'>lead_lep_pt</font>*.\n",
    "\n"
   ]
  },
  {
   "cell_type": "markdown",
   "metadata": {},
   "source": [
    "<html>\n",
    "<details>\n",
    "<summary style=\"color:orange; font-weight: bold;\">Click me for Hint 8</summary>\n",
    " \n",
    "Read across to the y-axis from the highest point on the graph.\n",
    "    \n",
    "</details>\n",
    "</html>"
   ]
  },
  {
   "cell_type": "markdown",
   "metadata": {},
   "source": [
    "<html>\n",
    "<details>\n",
    "<summary style=\"color:orange; font-weight: bold;\">Click me for Solution 8</summary>\n",
    " \n",
    "About 2.53\n",
    "    \n",
    "</details>\n",
    "</html>"
   ]
  },
  {
   "cell_type": "markdown",
   "metadata": {},
   "source": [
    "Not the significance over 3 we were hoping for :(\n",
    "\n",
    "What about any other variables?"
   ]
  },
  {
   "cell_type": "markdown",
   "metadata": {},
   "source": [
    "<a id='task11'></a>\n",
    "\n",
    "### Task 11: Fill in the code to make a graph of <span style=\"color:red\">'sublead_lep_pt'</span>"
   ]
  },
  {
   "cell_type": "code",
   "execution_count": 24,
   "metadata": {},
   "outputs": [
    {
     "ename": "KeyError",
     "evalue": "'--'",
     "output_type": "error",
     "traceback": [
      "\u001b[0;31m---------------------------------------------------------------------------\u001b[0m",
      "\u001b[0;31mKeyError\u001b[0m                                  Traceback (most recent call last)",
      "\u001b[0;32m/opt/tljh/user/lib/python3.9/site-packages/pandas/core/indexes/base.py\u001b[0m in \u001b[0;36mget_loc\u001b[0;34m(self, key, method, tolerance)\u001b[0m\n\u001b[1;32m   3360\u001b[0m             \u001b[0;32mtry\u001b[0m\u001b[0;34m:\u001b[0m\u001b[0;34m\u001b[0m\u001b[0;34m\u001b[0m\u001b[0m\n\u001b[0;32m-> 3361\u001b[0;31m                 \u001b[0;32mreturn\u001b[0m \u001b[0mself\u001b[0m\u001b[0;34m.\u001b[0m\u001b[0m_engine\u001b[0m\u001b[0;34m.\u001b[0m\u001b[0mget_loc\u001b[0m\u001b[0;34m(\u001b[0m\u001b[0mcasted_key\u001b[0m\u001b[0;34m)\u001b[0m\u001b[0;34m\u001b[0m\u001b[0;34m\u001b[0m\u001b[0m\n\u001b[0m\u001b[1;32m   3362\u001b[0m             \u001b[0;32mexcept\u001b[0m \u001b[0mKeyError\u001b[0m \u001b[0;32mas\u001b[0m \u001b[0merr\u001b[0m\u001b[0;34m:\u001b[0m\u001b[0;34m\u001b[0m\u001b[0;34m\u001b[0m\u001b[0m\n",
      "\u001b[0;32m/opt/tljh/user/lib/python3.9/site-packages/pandas/_libs/index.pyx\u001b[0m in \u001b[0;36mpandas._libs.index.IndexEngine.get_loc\u001b[0;34m()\u001b[0m\n",
      "\u001b[0;32m/opt/tljh/user/lib/python3.9/site-packages/pandas/_libs/index.pyx\u001b[0m in \u001b[0;36mpandas._libs.index.IndexEngine.get_loc\u001b[0;34m()\u001b[0m\n",
      "\u001b[0;32mpandas/_libs/hashtable_class_helper.pxi\u001b[0m in \u001b[0;36mpandas._libs.hashtable.PyObjectHashTable.get_item\u001b[0;34m()\u001b[0m\n",
      "\u001b[0;32mpandas/_libs/hashtable_class_helper.pxi\u001b[0m in \u001b[0;36mpandas._libs.hashtable.PyObjectHashTable.get_item\u001b[0;34m()\u001b[0m\n",
      "\u001b[0;31mKeyError\u001b[0m: '--'",
      "\nThe above exception was the direct cause of the following exception:\n",
      "\u001b[0;31mKeyError\u001b[0m                                  Traceback (most recent call last)",
      "\u001b[0;32m/tmp/ipykernel_12933/3794435392.py\u001b[0m in \u001b[0;36m<module>\u001b[0;34m\u001b[0m\n\u001b[1;32m      2\u001b[0m \u001b[0mstacked_weight\u001b[0m \u001b[0;34m=\u001b[0m \u001b[0;34m[\u001b[0m\u001b[0;34m]\u001b[0m \u001b[0;31m# list to hold weights to stack\u001b[0m\u001b[0;34m\u001b[0m\u001b[0;34m\u001b[0m\u001b[0m\n\u001b[1;32m      3\u001b[0m \u001b[0;32mfor\u001b[0m \u001b[0ms\u001b[0m \u001b[0;32min\u001b[0m \u001b[0mprocesses\u001b[0m\u001b[0;34m:\u001b[0m \u001b[0;31m# loop over different processes\u001b[0m\u001b[0;34m\u001b[0m\u001b[0;34m\u001b[0m\u001b[0m\n\u001b[0;32m----> 4\u001b[0;31m     \u001b[0mstacked_variable\u001b[0m\u001b[0;34m.\u001b[0m\u001b[0mappend\u001b[0m\u001b[0;34m(\u001b[0m\u001b[0mdtcuts\u001b[0m\u001b[0;34m[\u001b[0m\u001b[0ms\u001b[0m\u001b[0;34m]\u001b[0m\u001b[0;34m[\u001b[0m\u001b[0;34m'--'\u001b[0m\u001b[0;34m]\u001b[0m\u001b[0;34m)\u001b[0m \u001b[0;31m# get each value of variables\u001b[0m\u001b[0;34m\u001b[0m\u001b[0;34m\u001b[0m\u001b[0m\n\u001b[0m\u001b[1;32m      5\u001b[0m     \u001b[0mstacked_weight\u001b[0m\u001b[0;34m.\u001b[0m\u001b[0mappend\u001b[0m\u001b[0;34m(\u001b[0m\u001b[0mdtcuts\u001b[0m\u001b[0;34m[\u001b[0m\u001b[0ms\u001b[0m\u001b[0;34m]\u001b[0m\u001b[0;34m[\u001b[0m\u001b[0;34m'--'\u001b[0m\u001b[0;34m]\u001b[0m\u001b[0;34m)\u001b[0m \u001b[0;31m# get each value of weight\u001b[0m\u001b[0;34m\u001b[0m\u001b[0;34m\u001b[0m\u001b[0m\n\u001b[1;32m      6\u001b[0m \u001b[0mmatplotlib\u001b[0m\u001b[0;34m.\u001b[0m\u001b[0mpyplot\u001b[0m\u001b[0;34m.\u001b[0m\u001b[0mhist\u001b[0m\u001b[0;34m(\u001b[0m\u001b[0mstacked_variable\u001b[0m\u001b[0;34m,\u001b[0m \u001b[0mweights\u001b[0m\u001b[0;34m=\u001b[0m\u001b[0mstacked_weight\u001b[0m\u001b[0;34m,\u001b[0m \u001b[0mlabel\u001b[0m\u001b[0;34m=\u001b[0m\u001b[0mprocesses\u001b[0m\u001b[0;34m,\u001b[0m \u001b[0mstacked\u001b[0m\u001b[0;34m=\u001b[0m\u001b[0;32mTrue\u001b[0m\u001b[0;34m)\u001b[0m\u001b[0;34m\u001b[0m\u001b[0;34m\u001b[0m\u001b[0m\n",
      "\u001b[0;32m/opt/tljh/user/lib/python3.9/site-packages/pandas/core/frame.py\u001b[0m in \u001b[0;36m__getitem__\u001b[0;34m(self, key)\u001b[0m\n\u001b[1;32m   3456\u001b[0m             \u001b[0;32mif\u001b[0m \u001b[0mself\u001b[0m\u001b[0;34m.\u001b[0m\u001b[0mcolumns\u001b[0m\u001b[0;34m.\u001b[0m\u001b[0mnlevels\u001b[0m \u001b[0;34m>\u001b[0m \u001b[0;36m1\u001b[0m\u001b[0;34m:\u001b[0m\u001b[0;34m\u001b[0m\u001b[0;34m\u001b[0m\u001b[0m\n\u001b[1;32m   3457\u001b[0m                 \u001b[0;32mreturn\u001b[0m \u001b[0mself\u001b[0m\u001b[0;34m.\u001b[0m\u001b[0m_getitem_multilevel\u001b[0m\u001b[0;34m(\u001b[0m\u001b[0mkey\u001b[0m\u001b[0;34m)\u001b[0m\u001b[0;34m\u001b[0m\u001b[0;34m\u001b[0m\u001b[0m\n\u001b[0;32m-> 3458\u001b[0;31m             \u001b[0mindexer\u001b[0m \u001b[0;34m=\u001b[0m \u001b[0mself\u001b[0m\u001b[0;34m.\u001b[0m\u001b[0mcolumns\u001b[0m\u001b[0;34m.\u001b[0m\u001b[0mget_loc\u001b[0m\u001b[0;34m(\u001b[0m\u001b[0mkey\u001b[0m\u001b[0;34m)\u001b[0m\u001b[0;34m\u001b[0m\u001b[0;34m\u001b[0m\u001b[0m\n\u001b[0m\u001b[1;32m   3459\u001b[0m             \u001b[0;32mif\u001b[0m \u001b[0mis_integer\u001b[0m\u001b[0;34m(\u001b[0m\u001b[0mindexer\u001b[0m\u001b[0;34m)\u001b[0m\u001b[0;34m:\u001b[0m\u001b[0;34m\u001b[0m\u001b[0;34m\u001b[0m\u001b[0m\n\u001b[1;32m   3460\u001b[0m                 \u001b[0mindexer\u001b[0m \u001b[0;34m=\u001b[0m \u001b[0;34m[\u001b[0m\u001b[0mindexer\u001b[0m\u001b[0;34m]\u001b[0m\u001b[0;34m\u001b[0m\u001b[0;34m\u001b[0m\u001b[0m\n",
      "\u001b[0;32m/opt/tljh/user/lib/python3.9/site-packages/pandas/core/indexes/base.py\u001b[0m in \u001b[0;36mget_loc\u001b[0;34m(self, key, method, tolerance)\u001b[0m\n\u001b[1;32m   3361\u001b[0m                 \u001b[0;32mreturn\u001b[0m \u001b[0mself\u001b[0m\u001b[0;34m.\u001b[0m\u001b[0m_engine\u001b[0m\u001b[0;34m.\u001b[0m\u001b[0mget_loc\u001b[0m\u001b[0;34m(\u001b[0m\u001b[0mcasted_key\u001b[0m\u001b[0;34m)\u001b[0m\u001b[0;34m\u001b[0m\u001b[0;34m\u001b[0m\u001b[0m\n\u001b[1;32m   3362\u001b[0m             \u001b[0;32mexcept\u001b[0m \u001b[0mKeyError\u001b[0m \u001b[0;32mas\u001b[0m \u001b[0merr\u001b[0m\u001b[0;34m:\u001b[0m\u001b[0;34m\u001b[0m\u001b[0;34m\u001b[0m\u001b[0m\n\u001b[0;32m-> 3363\u001b[0;31m                 \u001b[0;32mraise\u001b[0m \u001b[0mKeyError\u001b[0m\u001b[0;34m(\u001b[0m\u001b[0mkey\u001b[0m\u001b[0;34m)\u001b[0m \u001b[0;32mfrom\u001b[0m \u001b[0merr\u001b[0m\u001b[0;34m\u001b[0m\u001b[0;34m\u001b[0m\u001b[0m\n\u001b[0m\u001b[1;32m   3364\u001b[0m \u001b[0;34m\u001b[0m\u001b[0m\n\u001b[1;32m   3365\u001b[0m         \u001b[0;32mif\u001b[0m \u001b[0mis_scalar\u001b[0m\u001b[0;34m(\u001b[0m\u001b[0mkey\u001b[0m\u001b[0;34m)\u001b[0m \u001b[0;32mand\u001b[0m \u001b[0misna\u001b[0m\u001b[0;34m(\u001b[0m\u001b[0mkey\u001b[0m\u001b[0;34m)\u001b[0m \u001b[0;32mand\u001b[0m \u001b[0;32mnot\u001b[0m \u001b[0mself\u001b[0m\u001b[0;34m.\u001b[0m\u001b[0mhasnans\u001b[0m\u001b[0;34m:\u001b[0m\u001b[0;34m\u001b[0m\u001b[0;34m\u001b[0m\u001b[0m\n",
      "\u001b[0;31mKeyError\u001b[0m: '--'"
     ]
    }
   ],
   "source": [
    "stacked_variable = [] # list to hold variable to stack\n",
    "stacked_weight = [] # list to hold weights to stack\n",
    "for s in processes: # loop over different processes\n",
    "    stacked_variable.append(dtcuts[s]['--']) # get each value of variables\n",
    "    stacked_weight.append(dtcuts[s]['--']) # get each value of weight\n",
    "matplotlib.pyplot.hist(stacked_variable, weights=stacked_weight, label=processes, stacked=True)\n",
    "matplotlib.pyplot.xlabel('sublead_lep_pt [GeV]') # x-axis label\n",
    "matplotlib.pyplot.ylabel('Weighted Events') # y-axis label\n",
    "matplotlib.pyplot.legend() # add legend to plot"
   ]
  },
  {
   "cell_type": "markdown",
   "metadata": {},
   "source": [
    "<html>\n",
    "<details>\n",
    "<summary style=\"color:orange; font-weight: bold;\">Click me for Hint 9</summary>\n",
    " \n",
    "All you need to do compared to the colourful graph above is change the red text from <span style=\"color:red\">'lead_lep_pt'</span> to <span style=\"color:red\">'sublead_lep_pt'</span>\n",
    "    \n",
    "</details>\n",
    "</html>"
   ]
  },
  {
   "cell_type": "markdown",
   "metadata": {},
   "source": [
    "<html>\n",
    "<details>\n",
    "<summary style=\"color:orange; font-weight: bold;\">Click me for Solution 9</summary>\n",
    " \n",
    "```python\n",
    "stacked_variable = [] # list to hold variable to stack\n",
    "stacked_weight = [] # list to hold weights to stack\n",
    "for s in processes: # loop over different processes\n",
    "    stacked_variable.append(data_all[s]['sublead_lep_pt']) # get each value of variable\n",
    "    stacked_weight.append(data_all[s]['totalWeight']) # get each value of weight\n",
    "matplotlib.pyplot.hist(stacked_variable, weights=stacked_weight, label=processes, stacked=True)\n",
    "matplotlib.pyplot.xlabel('sublead_lep_pt [GeV]') # x-axis label\n",
    "matplotlib.pyplot.ylabel('Weighted Events') # y-axis label\n",
    "matplotlib.pyplot.legend() # add legend to plot\n",
    "```\n",
    "    \n",
    "</details>\n",
    "</html>"
   ]
  },
  {
   "cell_type": "markdown",
   "metadata": {},
   "source": [
    "[Back to contents](#contents)\n",
    "\n",
    "<a id='task12'></a>\n",
    "\n",
    "### Task 12: Choose the x-values for your significance graph of <font color='red'>'sublead_lep_pt'</font>, then plot the significance graph\n",
    "\n",
    "There isn't really \"correct\" answer for the x-values, just something that shows the significance across a range of values.\n",
    "\n",
    "Only click on the hints if you need.\n",
    "\n"
   ]
  },
  {
   "cell_type": "code",
   "execution_count": 25,
   "metadata": {},
   "outputs": [
    {
     "data": {
      "text/plain": [
       "Text(0, 0.5, 'Significance')"
      ]
     },
     "execution_count": 25,
     "metadata": {},
     "output_type": "execute_result"
    },
    {
     "data": {
      "image/png": "[encoded data removed]",
      "text/plain": [
       "<Figure size 432x288 with 1 Axes>"
      ]
     },
     "metadata": {
      "needs_background": "light"
     },
     "output_type": "display_data"
    }
   ],
   "source": [
    "x_values = [15,30,45,60,75,90,105,120,135,150] # the x-values at which significance will be calculated\n",
    "\n",
    "sigs = [] # list to hold significance values\n",
    "for x in x_values: # loop over bins\n",
    "    signal_weights_selected = 0 # start counter for signal weights\n",
    "    background_weights_selected = 0 # start counter for background weights\n",
    "    for s in processes: # loop over background samples\n",
    "        if 'DM' in s: signal_weights_selected += sum(dtcuts[s][dtcuts[s]['lead_lep_pt']>x]['totalWeight'])\n",
    "        else: background_weights_selected += sum(dtcuts[s][dtcuts[s]['lead_lep_pt']>x]['totalWeight'])\n",
    "    sig_value = signal_weights_selected/numpy.sqrt(background_weights_selected)\n",
    "    sigs.append(sig_value) # append to list of significance values\n",
    "\n",
    "matplotlib.pyplot.plot( x_values[:len(sigs)], sigs ) # plot the data points\n",
    "matplotlib.pyplot.ylabel('Significance') # y-axis label"
   ]
  },
  {
   "cell_type": "markdown",
   "metadata": {},
   "source": [
    "<html>\n",
    "<details>\n",
    "<summary style=\"color:orange; font-weight: bold;\">Click me for Hint 10.1</summary>\n",
    " \n",
    "What's the maximum x-value at which there's a mix of different colours present in the <span style=\"color:red\">'sublead_lep_pt'</span> graph?\n",
    "    \n",
    "</details>\n",
    "</html>"
   ]
  },
  {
   "cell_type": "markdown",
   "metadata": {},
   "source": [
    "<html>\n",
    "<details>\n",
    "<summary style=\"color:orange; font-weight: bold;\">Click me for Hint 10.2</summary>\n",
    " \n",
    "Compared to the code for the significance graph above, you only need to change the red text from <span style=\"color:red\">'lead_lep_pt'</span> to <span style=\"color:red\">'sublead_lep_pt'</span>\n",
    "    \n",
    "</details>\n",
    "</html>"
   ]
  },
  {
   "cell_type": "markdown",
   "metadata": {},
   "source": [
    "<html>\n",
    "<details>\n",
    "<summary style=\"color:orange; font-weight: bold;\">Click me for Solution 10</summary>\n",
    " \n",
    "```python\n",
    "x_values = [15,30,45,60,75,90,105,120,135,150] # the x-values for significance\n",
    "\n",
    "sigs = [] # list to hold significance values\n",
    "for x in x_values: # loop over bins\n",
    "    signal_weights_selected = 0 # start counter for signal weights\n",
    "    background_weights_selected = 0 # start counter for background weights\n",
    "    for s in processes: # loop over background samples\n",
    "        if 'DM' in s: signal_weights_selected += sum(data_all[s][data_all[s]['lead_lep_pt']>x]['totalWeight'])\n",
    "        else: background_weights_selected += sum(data_all[s][data_all[s]['lead_lep_pt']>x]['totalWeight'])\n",
    "    sig_value = signal_weights_selected/numpy.sqrt(background_weights_selected)\n",
    "    sigs.append(sig_value) # append to list of significance values\n",
    "\n",
    "matplotlib.pyplot.plot( x_values[:len(sigs)], sigs ) # plot the data points\n",
    "matplotlib.pyplot.ylabel('Significance') # y-axis label\n",
    "```\n",
    "    \n",
    "</details>\n",
    "</html>"
   ]
  },
  {
   "cell_type": "markdown",
   "metadata": {},
   "source": [
    "Can we get a significance above 3 for <font color='red'>'sublead_lep_pt'</font>?\n",
    "\n",
    "What about any other variables?\n",
    "\n",
    "<a id='task13'></a>\n",
    "\n",
    "### Task 13: Plot the significance for <font color='red'>'ETmiss'</font>, <font color='red'>'ETmiss_over_HT'</font>,<font color='red'>'dphi_pTll_ETmiss'</font>.\n",
    "\n",
    "<font color='red'>'ETmiss'</font> has units [GeV], <font color='red'>'ETmiss_over_HT'</font> has no units and <font color='red'>'dphi_pTll_ETmiss'</font> has units [rad]"
   ]
  },
  {
   "cell_type": "code",
   "execution_count": 26,
   "metadata": {},
   "outputs": [
    {
     "data": {
      "text/plain": [
       "Text(0, 0.5, 'Significance')"
      ]
     },
     "execution_count": 26,
     "metadata": {},
     "output_type": "execute_result"
    },
    {
     "data": {
      "image/png": "[encoded data removed]",
      "text/plain": [
       "<Figure size 432x288 with 1 Axes>"
      ]
     },
     "metadata": {
      "needs_background": "light"
     },
     "output_type": "display_data"
    }
   ],
   "source": [
    "x_values = [2,2.1,2.2,2.3,2.4,2.5,2.6,2.7,2.8,2.9,3.0] # the x-values for significance\n",
    "\n",
    "sigs = [] # list to hold significance values\n",
    "for x in x_values: # loop over bins\n",
    "    signal_weights_selected = 0 # start counter for signal weights\n",
    "    background_weights_selected = 0 # start counter for background weights\n",
    "    for s in processes: # loop over background samples\n",
    "        if 'DM' in s: signal_weights_selected += sum(data_all[s][data_all[s]['dphi_pTll_ETmiss']>x]['totalWeight'])\n",
    "        else: background_weights_selected += sum(data_all[s][data_all[s]['dphi_pTll_ETmiss']>x]['totalWeight'])\n",
    "    sig_value = signal_weights_selected/numpy.sqrt(background_weights_selected)\n",
    "    sigs.append(sig_value) # append to list of signifcance values\n",
    "\n",
    "matplotlib.pyplot.plot( x_values[:len(sigs)], sigs ) # plot the data points\n",
    "matplotlib.pyplot.ylabel('Significance') # y-axis label"
   ]
  },
  {
   "cell_type": "markdown",
   "metadata": {},
   "source": [
    "<html>\n",
    "<details>\n",
    "<summary style=\"color:orange; font-weight: bold;\">Click me for Hint 11</summary>\n",
    " \n",
    "Repeat the process for [Task 9](#task9) and [Task 10](#task10) by copy and pasting the code blocks, then changing the bits you need to change.\n",
    "    \n",
    "</details>\n",
    "</html>"
   ]
  },
  {
   "cell_type": "markdown",
   "metadata": {},
   "source": [
    "<html>\n",
    "<details>\n",
    "<summary style=\"color:orange; font-weight: bold;\">Click me for part 1 to Solution 11</summary>\n",
    " \n",
    "```python\n",
    "stacked_variable = [] # list to hold variable to stack\n",
    "stacked_weight = [] # list to hold weights to stack\n",
    "for s in processes: # loop over different processes\n",
    "    stacked_variable.append(data_all[s]['ETmiss']) # get each value of variable\n",
    "    stacked_weight.append(data_all[s]['totalWeight']) # get each value of weight\n",
    "matplotlib.pyplot.hist(stacked_variable, weights=stacked_weight, label=processes, stacked=True)\n",
    "matplotlib.pyplot.xlabel('ETmiss [GeV]') # x-axis label\n",
    "matplotlib.pyplot.ylabel('Weighted Events') # y-axis label\n",
    "matplotlib.pyplot.legend() # add legend to plot\n",
    "```\n",
    "    \n",
    "</details>\n",
    "</html>"
   ]
  },
  {
   "cell_type": "markdown",
   "metadata": {},
   "source": [
    "<html>\n",
    "<details>\n",
    "<summary style=\"color:orange; font-weight: bold;\">Click me for part 2 to Solution 11</summary>\n",
    " \n",
    "```python\n",
    "x_values = [100,150,200,250,300,350,400,450,500] # the x-values for significance\n",
    "\n",
    "sigs = [] # list to hold significance values\n",
    "for x in x_values: # loop over bins\n",
    "    signal_weights_selected = 0 # start counter for signal weights\n",
    "    background_weights_selected = 0 # start counter for background weights\n",
    "    for s in processes: # loop over background samples\n",
    "        if 'DM' in s: signal_weights_selected += sum(data_all[s][data_all[s]['ETmiss']>x]['totalWeight'])\n",
    "        else: background_weights_selected += sum(data_all[s][data_all[s]['ETmiss']>x]['totalWeight'])\n",
    "    sig_value = signal_weights_selected/numpy.sqrt(background_weights_selected)\n",
    "    sigs.append(sig_value) # append to list of significance values\n",
    "\n",
    "matplotlib.pyplot.plot( x_values[:len(sigs)], sigs ) # plot the data points\n",
    "matplotlib.pyplot.ylabel('Significance') # y-axis label\n",
    "```\n",
    "    \n",
    "</details>\n",
    "</html>"
   ]
  },
  {
   "cell_type": "markdown",
   "metadata": {},
   "source": [
    "<html>\n",
    "<details>\n",
    "<summary style=\"color:orange; font-weight: bold;\">Click me for part 3 to Solution 11</summary>\n",
    " \n",
    "```python\n",
    "stacked_variable = [] # list to hold variable to stack\n",
    "stacked_weight = [] # list to hold weights to stack\n",
    "for s in processes: # loop over different processes\n",
    "    stacked_variable.append(data_all[s]['ETmiss_over_HT']) # get each value of variable\n",
    "    stacked_weight.append(data_all[s]['totalWeight']) # get each value of weight\n",
    "matplotlib.pyplot.hist(stacked_variable, weights=stacked_weight, label=processes, stacked=True)\n",
    "matplotlib.pyplot.xlabel('ETmiss_over_HT') # x-axis label\n",
    "matplotlib.pyplot.ylabel('Weighted Events') # y-axis label\n",
    "matplotlib.pyplot.legend() # add legend to plot\n",
    "```\n",
    "    \n",
    "</details>\n",
    "</html>"
   ]
  },
  {
   "cell_type": "markdown",
   "metadata": {},
   "source": [
    "<html>\n",
    "<details>\n",
    "<summary style=\"color:orange; font-weight: bold;\">Click me for part 4 to Solution 11</summary>\n",
    " \n",
    "```python\n",
    "x_values = [0.5,0.6,0.7,0.8,0.9,1.0,1.1,1.2] # the x-values at for significance\n",
    "\n",
    "sigs = [] # list to hold significance values\n",
    "for x in x_values: # loop over bins\n",
    "    signal_weights_selected = 0 # start counter for signal weights\n",
    "    background_weights_selected = 0 # start counter for background weights\n",
    "    for s in processes: # loop over background samples\n",
    "        if 'DM' in s: signal_weights_selected += sum(data_all[s][data_all[s]['ETmiss_over_HT']>x]['totalWeight'])\n",
    "        else: background_weights_selected += sum(data_all[s][data_all[s]['ETmiss_over_HT']>x]['totalWeight'])\n",
    "    sig_value = signal_weights_selected/numpy.sqrt(background_weights_selected)\n",
    "    sigs.append(sig_value) # append to list of significance values\n",
    "\n",
    "matplotlib.pyplot.plot( x_values[:len(sigs)], sigs ) # plot the data points\n",
    "matplotlib.pyplot.ylabel('Significance') # y-axis label\n",
    "```\n",
    "    \n",
    "</details>\n",
    "</html>"
   ]
  },
  {
   "cell_type": "markdown",
   "metadata": {},
   "source": [
    "<html>\n",
    "<details>\n",
    "<summary style=\"color:orange; font-weight: bold;\">Click me for part 5 to Solution 11</summary>\n",
    " \n",
    "```python\n",
    "stacked_variable = [] # list to hold variable to stack\n",
    "stacked_weight = [] # list to hold weights to stack\n",
    "for s in processes: # loop over different processes\n",
    "    stacked_variable.append(data_all[s]['dphi_pTll_ETmiss']) # get each value of variables\n",
    "    stacked_weight.append(data_all[s]['totalWeight']) # get each value of weight\n",
    "matplotlib.pyplot.hist(stacked_variable, weights=stacked_weight, label=processes, stacked=True)\n",
    "matplotlib.pyplot.xlabel('dphi_pTll_ETmiss [rad]') # x-axis label\n",
    "matplotlib.pyplot.ylabel('Weighted Events') # y-axis label\n",
    "matplotlib.pyplot.legend() # add legend to plot\n",
    "```\n",
    "    \n",
    "</details>\n",
    "</html>"
   ]
  },
  {
   "cell_type": "markdown",
   "metadata": {},
   "source": [
    "<html>\n",
    "<details>\n",
    "<summary style=\"color:orange; font-weight: bold;\">Click me for part 6 to Solution 11</summary>\n",
    " \n",
    "```python\n",
    "x_values = [2,2.1,2.2,2.3,2.4,2.5,2.6,2.7,2.8,2.9,3.0] # the x-values for significance\n",
    "\n",
    "sigs = [] # list to hold significance values\n",
    "for x in x_values: # loop over bins\n",
    "    signal_weights_selected = 0 # start counter for signal weights\n",
    "    background_weights_selected = 0 # start counter for background weights\n",
    "    for s in processes: # loop over background samples\n",
    "        if 'DM' in s: signal_weights_selected += sum(data_all[s][data_all[s]['dphi_pTll_ETmiss']>x]['totalWeight'])\n",
    "        else: background_weights_selected += sum(data_all[s][data_all[s]['dphi_pTll_ETmiss']>x]['totalWeight'])\n",
    "    sig_value = signal_weights_selected/numpy.sqrt(background_weights_selected)\n",
    "    sigs.append(sig_value) # append to list of signifcance values\n",
    "\n",
    "matplotlib.pyplot.plot( x_values[:len(sigs)], sigs ) # plot the data points\n",
    "matplotlib.pyplot.ylabel('Significance') # y-axis label\n",
    "```\n",
    "    \n",
    "</details>\n",
    "</html>"
   ]
  },
  {
   "cell_type": "markdown",
   "metadata": {},
   "source": [
    "<a id='going_further'></a>\n",
    "\n",
    "## Going further\n",
    "\n",
    "If you want to go further, there are a number of things you could try. Try each of these one by one: \n",
    "* A different Dark Matter <font color='purple'>signal</font> in \"[Processes](#processes)\". Change <span style=\"color:red\">'DM_300'</span> to one of <span style=\"color:red\">'DM_10'</span>, <span style=\"color:red\">'DM_100'</span>, <span style=\"color:red\">'DM_200'</span>, <span style=\"color:red\">'DM_400'</span>, <span style=\"color:red\">'DM_500'</span>, <span style=\"color:red\">'DM_600'</span>, <span style=\"color:red\">'DM_700'</span>, <span style=\"color:red\">'DM_800'</span>, <span style=\"color:red\">'DM_2000'</span>.\n",
    "* Make colourful graphs of the other variables present in your datasets."
   ]
  },
  {
   "cell_type": "code",
   "execution_count": null,
   "metadata": {},
   "outputs": [],
   "source": []
  }
 ],
 "metadata": {
  "kernelspec": {
   "display_name": "Python 3 (ipykernel)",
   "language": "python",
   "name": "python3"
  },
  "language_info": {
   "codemirror_mode": {
    "name": "ipython",
    "version": 3
   },
   "file_extension": ".py",
   "mimetype": "text/x-python",
   "name": "python",
   "nbconvert_exporter": "python",
   "pygments_lexer": "ipython3",
   "version": "3.9.7"
  }
 },
 "nbformat": 4,
 "nbformat_minor": 2
}
